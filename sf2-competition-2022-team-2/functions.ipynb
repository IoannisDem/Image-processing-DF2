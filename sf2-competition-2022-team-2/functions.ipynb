{
 "cells": [
  {
   "cell_type": "code",
   "execution_count": null,
   "id": "b6ee1a67",
   "metadata": {},
   "outputs": [],
   "source": [
    "def nlevdwt(X, n):\n",
    "    \n",
    "    Xp = X.copy()\n",
    "    m= Xp.shape[0]\n",
    "    Y=dwt(Xp)\n",
    "    \n",
    "    for i in range(n-1):\n",
    "        m = m//2\n",
    "        \n",
    "        # DTW on first sub-image\n",
    "        Y[:m,:m] = dwt(Y[:m,:m])\n",
    "    return Y\n",
    "\n",
    "def nlevidwt(Y, n):\n",
    "    \n",
    "    Yp = Y.copy()\n",
    "    m = Yp.shape[0]\n",
    "    \n",
    "    # n layer iDTW, used by n = {2...n}\n",
    "    for e in range(n-1, 0, -1):\n",
    "        i = m//2**e\n",
    "        Yp[:i,:i] = idwt(Yp[:i,:i])\n",
    "    \n",
    "    # Final iDTW, used by final layer n=1\n",
    "    Xr = idwt(Yp)\n",
    "    \n",
    "    return Xr"
   ]
  }
 ],
 "metadata": {
  "kernelspec": {
   "display_name": "Python 3",
   "language": "python",
   "name": "python3"
  },
  "language_info": {
   "codemirror_mode": {
    "name": "ipython",
    "version": 3
   },
   "file_extension": ".py",
   "mimetype": "text/x-python",
   "name": "python",
   "nbconvert_exporter": "python",
   "pygments_lexer": "ipython3",
   "version": "3.8.8"
  }
 },
 "nbformat": 4,
 "nbformat_minor": 5
}
